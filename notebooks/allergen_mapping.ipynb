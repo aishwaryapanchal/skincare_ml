{
  "nbformat": 4,
  "nbformat_minor": 0,
  "metadata": {
    "colab": {
      "provenance": []
    },
    "kernelspec": {
      "name": "python3",
      "display_name": "Python 3"
    },
    "language_info": {
      "name": "python"
    }
  },
  "cells": [
    {
      "cell_type": "code",
      "execution_count": 14,
      "metadata": {
        "id": "pGmSnccPblDQ"
      },
      "outputs": [],
      "source": [
        "import pandas as pd\n",
        "import numpy as np\n",
        "from sklearn.model_selection import train_test_split\n",
        "from sklearn.preprocessing import LabelEncoder, StandardScaler\n",
        "from sklearn.ensemble import RandomForestRegressor\n",
        "from sklearn.metrics import mean_squared_error, r2_score\n",
        "import re\n",
        "import ast"
      ]
    },
    {
      "cell_type": "code",
      "source": [
        "# Load the product info dataset\n",
        "products_df = pd.read_csv('product_info.csv')\n",
        "\n",
        "# Load the known allergen dataset\n",
        "allergens_df = pd.read_csv('known_allergens.csv')\n",
        "\n",
        "# Create a dictionary from the allergens dataset for quick lookup\n",
        "allergen_dict = dict(zip(allergens_df['Ingredient'], allergens_df['Known Allergens']))"
      ],
      "metadata": {
        "id": "AG_CO5sGdta_"
      },
      "execution_count": 17,
      "outputs": []
    },
    {
      "cell_type": "code",
      "source": [
        "# Function to parse and clean ingredient lists\n",
        "def parse_ingredients(ingredient_str):\n",
        "    try:\n",
        "        ingredients_list = ast.literal_eval(ingredient_str)\n",
        "        flat_list = [item for sublist in ingredients_list for item in (sublist.split(',') if isinstance(sublist, str) else sublist)]\n",
        "        return [ingredient.strip() for ingredient in flat_list if ingredient.strip()]\n",
        "    except (ValueError, SyntaxError):\n",
        "        return []\n",
        "\n",
        "# Apply parsing function to 'ingredients' column\n",
        "products_df['parsed_ingredients'] = products_df['ingredients'].apply(parse_ingredients)"
      ],
      "metadata": {
        "id": "LePFfbMy0ewu"
      },
      "execution_count": 18,
      "outputs": []
    },
    {
      "cell_type": "code",
      "source": [
        "# Function to map allergens based on parsed ingredients\n",
        "def map_allergens(ingredients):\n",
        "    allergens = []\n",
        "    for ingredient in ingredients:\n",
        "        if ingredient in allergen_dict:\n",
        "            allergens.append(f\"{ingredient}: {allergen_dict[ingredient]}\")\n",
        "    return allergens if allergens else ['No known allergens']\n",
        "\n",
        "# Apply allergen mapping function\n",
        "products_df['allergen_info'] = products_df['parsed_ingredients'].apply(map_allergens)"
      ],
      "metadata": {
        "id": "qt_9eHrE0e3D"
      },
      "execution_count": 19,
      "outputs": []
    },
    {
      "cell_type": "code",
      "source": [
        "# Export the updated dataset to a new CSV file\n",
        "products_df.to_csv('product_info_with_allergens.csv', index=False)\n",
        "\n",
        "print(\"Data processed and exported to 'product_info_with_allergens.csv'\")"
      ],
      "metadata": {
        "colab": {
          "base_uri": "https://localhost:8080/"
        },
        "id": "RtQ6aU3reW9y",
        "outputId": "e70a96ad-5adb-4697-dc90-f22680a0d98c"
      },
      "execution_count": 20,
      "outputs": [
        {
          "output_type": "stream",
          "name": "stdout",
          "text": [
            "Data processed and exported to 'product_info_with_allergens.csv'\n"
          ]
        }
      ]
    }
  ]
}