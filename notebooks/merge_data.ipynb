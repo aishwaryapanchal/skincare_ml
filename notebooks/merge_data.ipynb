{
 "cells": [
  {
   "cell_type": "code",
   "execution_count": 1,
   "metadata": {},
   "outputs": [],
   "source": [
    "import pandas as pd\n",
    "import os"
   ]
  },
  {
   "cell_type": "code",
   "execution_count": 2,
   "metadata": {},
   "outputs": [
    {
     "name": "stderr",
     "output_type": "stream",
     "text": [
      "C:\\Users\\PEI\\AppData\\Local\\Temp\\ipykernel_24632\\3365531145.py:17: DtypeWarning: Columns (1) have mixed types. Specify dtype option on import or set low_memory=False.\n",
      "  reviews_df = pd.read_csv(review_file_path)\n"
     ]
    },
    {
     "name": "stdout",
     "output_type": "stream",
     "text": [
      "Writing to ../data/merged/merged_reviews_0-250.csv.csv, shape: (602130, 26)\n"
     ]
    },
    {
     "name": "stderr",
     "output_type": "stream",
     "text": [
      "C:\\Users\\PEI\\AppData\\Local\\Temp\\ipykernel_24632\\3365531145.py:17: DtypeWarning: Columns (1) have mixed types. Specify dtype option on import or set low_memory=False.\n",
      "  reviews_df = pd.read_csv(review_file_path)\n"
     ]
    },
    {
     "name": "stdout",
     "output_type": "stream",
     "text": [
      "Writing to ../data/merged/merged_reviews_1250-end.csv.csv, shape: (49977, 26)\n",
      "Writing to ../data/merged/merged_reviews_250-500.csv.csv, shape: (206725, 26)\n",
      "Writing to ../data/merged/merged_reviews_500-750.csv.csv, shape: (116262, 26)\n"
     ]
    },
    {
     "name": "stderr",
     "output_type": "stream",
     "text": [
      "C:\\Users\\PEI\\AppData\\Local\\Temp\\ipykernel_24632\\3365531145.py:17: DtypeWarning: Columns (1) have mixed types. Specify dtype option on import or set low_memory=False.\n",
      "  reviews_df = pd.read_csv(review_file_path)\n"
     ]
    },
    {
     "name": "stdout",
     "output_type": "stream",
     "text": [
      "Writing to ../data/merged/merged_reviews_750-1250.csv.csv, shape: (119317, 26)\n"
     ]
    }
   ],
   "source": [
    "product_info_file_path = '../data/product_info.csv'\n",
    "reviews_folder_path = '../data/reviews'\n",
    "merge_folder_path = '../data/merged'\n",
    "\n",
    "# Load the product info data\n",
    "product_info_df = pd.read_csv(product_info_file_path)\n",
    "# Dropping columns not relevant to our model\n",
    "product_info_df.drop(['size', 'variation_type', 'variation_value','variation_desc', 'value_price_usd', 'sale_price_usd', 'limited_edition', 'new', 'online_only', 'out_of_stock', 'sephora_exclusive', 'child_count','child_max_price', 'child_min_price'], axis=1, inplace=True)\n",
    "product_info_df.rename(columns={'rating': 'overall_rating'}, inplace=True)\n",
    "\n",
    "if not os.path.exists(merge_folder_path):\n",
    "    os.makedirs(merge_folder_path)\n",
    "\n",
    "for filename in os.listdir(reviews_folder_path):\n",
    "    if filename.endswith('.csv'):\n",
    "        review_file_path = os.path.join(reviews_folder_path, filename)\n",
    "        reviews_df = pd.read_csv(review_file_path)\n",
    "        reviews_df.drop(reviews_df.columns[0], axis=1, inplace=True)\n",
    "        reviews_df.drop(['submission_time', 'brand_name', 'price_usd'], axis=1, inplace=True)\n",
    "        merged_df = pd.merge(product_info_df, reviews_df, on=['product_id', 'product_name'], how='inner')\n",
    "        file_name_new = merge_folder_path + \"/merged_\" + filename + \".csv\"\n",
    "        merged_df.to_csv(file_name_new, index=False)\n",
    "        print(f\"Writing to {file_name_new}, shape: {merged_df.shape}\")"
   ]
  },
  {
   "cell_type": "code",
   "execution_count": null,
   "metadata": {},
   "outputs": [],
   "source": []
  }
 ],
 "metadata": {
  "kernelspec": {
   "display_name": "venv",
   "language": "python",
   "name": "python3"
  },
  "language_info": {
   "codemirror_mode": {
    "name": "ipython",
    "version": 3
   },
   "file_extension": ".py",
   "mimetype": "text/x-python",
   "name": "python",
   "nbconvert_exporter": "python",
   "pygments_lexer": "ipython3",
   "version": "3.11.5"
  }
 },
 "nbformat": 4,
 "nbformat_minor": 2
}
